{
 "cells": [
  {
   "cell_type": "code",
   "execution_count": 1,
   "id": "94b6df4d-3395-40b5-ae15-2e32833a0a46",
   "metadata": {},
   "outputs": [
    {
     "name": "stderr",
     "output_type": "stream",
     "text": [
      "writing [compiled_krb]/facts.fbc\n",
      "writing [compiled_krb]/fc_file_fc.py\n",
      "writing [compiled_krb]/compiled_pyke_files.py\n"
     ]
    }
   ],
   "source": [
    "\n",
    "import sys\n",
    "import os\n",
    "\n",
    "path = os.getcwd()\n",
    "\n",
    "sys.path.append(path)\n",
    "\n",
    "#sys.path.append('yourpath')\n",
    "import driver\n",
    "\n",
    "driver.fc_test()"
   ]
  },
  {
   "cell_type": "code",
   "execution_count": 3,
   "id": "17df578c-4c0b-4c9a-9115-f89e9cafba90",
   "metadata": {},
   "outputs": [],
   "source": [
    "import sys\n",
    "import pyke\n",
    "import os\n",
    "\n",
    "new_path = os.path.join(os.path.dirname(os.path.dirname(pyke.__file__)), 'examples/forall')\n",
    "sys.path.append(new_path)\n",
    "\n",
    "import driver\n",
    "driver.fc_test()"
   ]
  },
  {
   "cell_type": "code",
   "execution_count": null,
   "id": "02b449bc-26e8-47c2-9c3a-4e6eabff6c71",
   "metadata": {},
   "outputs": [],
   "source": []
  }
 ],
 "metadata": {
  "kernelspec": {
   "display_name": "py311",
   "language": "python",
   "name": "py311"
  },
  "language_info": {
   "codemirror_mode": {
    "name": "ipython",
    "version": 3
   },
   "file_extension": ".py",
   "mimetype": "text/x-python",
   "name": "python",
   "nbconvert_exporter": "python",
   "pygments_lexer": "ipython3",
   "version": "3.11.0"
  }
 },
 "nbformat": 4,
 "nbformat_minor": 5
}
