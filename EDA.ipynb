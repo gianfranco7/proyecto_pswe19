{
 "cells": [
  {
   "cell_type": "code",
   "execution_count": 41,
   "id": "1ee274fc-e8ba-480a-a7c2-77ba00bdb129",
   "metadata": {},
   "outputs": [
    {
     "data": {
      "text/html": [
       "<div>\n",
       "<style scoped>\n",
       "    .dataframe tbody tr th:only-of-type {\n",
       "        vertical-align: middle;\n",
       "    }\n",
       "\n",
       "    .dataframe tbody tr th {\n",
       "        vertical-align: top;\n",
       "    }\n",
       "\n",
       "    .dataframe thead th {\n",
       "        text-align: right;\n",
       "    }\n",
       "</style>\n",
       "<table border=\"1\" class=\"dataframe\">\n",
       "  <thead>\n",
       "    <tr style=\"text-align: right;\">\n",
       "      <th></th>\n",
       "      <th>Delito</th>\n",
       "      <th>SubDelito</th>\n",
       "      <th>Fecha</th>\n",
       "      <th>Hora</th>\n",
       "      <th>Victima</th>\n",
       "      <th>SubVictima</th>\n",
       "      <th>Edad</th>\n",
       "      <th>Sexo</th>\n",
       "      <th>Nacionalidad</th>\n",
       "      <th>Provincia</th>\n",
       "      <th>Canton</th>\n",
       "      <th>Distrito</th>\n",
       "    </tr>\n",
       "  </thead>\n",
       "  <tbody>\n",
       "    <tr>\n",
       "      <th>0</th>\n",
       "      <td>ASALTO</td>\n",
       "      <td>ARMA BLANCA</td>\n",
       "      <td>2023-02-01</td>\n",
       "      <td>18:00:00 - 20:59:59</td>\n",
       "      <td>PERSONA</td>\n",
       "      <td>PEATON [PERSONA]</td>\n",
       "      <td>Mayor de edad</td>\n",
       "      <td>MUJER</td>\n",
       "      <td>COSTA RICA</td>\n",
       "      <td>SAN JOSE</td>\n",
       "      <td>SANTA ANA</td>\n",
       "      <td>NaN</td>\n",
       "    </tr>\n",
       "    <tr>\n",
       "      <th>1</th>\n",
       "      <td>ASALTO</td>\n",
       "      <td>ARMA BLANCA</td>\n",
       "      <td>2023-02-04</td>\n",
       "      <td>03:00:00 - 05:59:59</td>\n",
       "      <td>PERSONA</td>\n",
       "      <td>PEATON [PERSONA]</td>\n",
       "      <td>Mayor de edad</td>\n",
       "      <td>DESCONOCIDO</td>\n",
       "      <td>COSTA RICA</td>\n",
       "      <td>SAN JOSE</td>\n",
       "      <td>SAN JOSE</td>\n",
       "      <td>NaN</td>\n",
       "    </tr>\n",
       "    <tr>\n",
       "      <th>2</th>\n",
       "      <td>ASALTO</td>\n",
       "      <td>ARMA BLANCA</td>\n",
       "      <td>2023-02-08</td>\n",
       "      <td>12:00:00 - 14:59:59</td>\n",
       "      <td>PERSONA</td>\n",
       "      <td>PEATON [PERSONA]</td>\n",
       "      <td>Mayor de edad</td>\n",
       "      <td>HOMBRE</td>\n",
       "      <td>COSTA RICA</td>\n",
       "      <td>CARTAGO</td>\n",
       "      <td>PARAISO</td>\n",
       "      <td>NaN</td>\n",
       "    </tr>\n",
       "    <tr>\n",
       "      <th>3</th>\n",
       "      <td>ASALTO</td>\n",
       "      <td>ARMA BLANCA</td>\n",
       "      <td>2023-02-20</td>\n",
       "      <td>00:00:00 - 02:59:59</td>\n",
       "      <td>PERSONA</td>\n",
       "      <td>PEATON [PERSONA]</td>\n",
       "      <td>Mayor de edad</td>\n",
       "      <td>MUJER</td>\n",
       "      <td>COSTA RICA</td>\n",
       "      <td>ALAJUELA</td>\n",
       "      <td>OROTINA</td>\n",
       "      <td>NaN</td>\n",
       "    </tr>\n",
       "    <tr>\n",
       "      <th>4</th>\n",
       "      <td>ASALTO</td>\n",
       "      <td>ARMA BLANCA</td>\n",
       "      <td>2023-02-19</td>\n",
       "      <td>18:00:00 - 20:59:59</td>\n",
       "      <td>PERSONA</td>\n",
       "      <td>PEATON [PERSONA]</td>\n",
       "      <td>Desconocido</td>\n",
       "      <td>MUJER</td>\n",
       "      <td>COSTA RICA</td>\n",
       "      <td>CARTAGO</td>\n",
       "      <td>OREAMUNO</td>\n",
       "      <td>NaN</td>\n",
       "    </tr>\n",
       "  </tbody>\n",
       "</table>\n",
       "</div>"
      ],
      "text/plain": [
       "   Delito    SubDelito       Fecha                 Hora  Victima  \\\n",
       "0  ASALTO  ARMA BLANCA  2023-02-01  18:00:00 - 20:59:59  PERSONA   \n",
       "1  ASALTO  ARMA BLANCA  2023-02-04  03:00:00 - 05:59:59  PERSONA   \n",
       "2  ASALTO  ARMA BLANCA  2023-02-08  12:00:00 - 14:59:59  PERSONA   \n",
       "3  ASALTO  ARMA BLANCA  2023-02-20  00:00:00 - 02:59:59  PERSONA   \n",
       "4  ASALTO  ARMA BLANCA  2023-02-19  18:00:00 - 20:59:59  PERSONA   \n",
       "\n",
       "         SubVictima           Edad         Sexo Nacionalidad Provincia  \\\n",
       "0  PEATON [PERSONA]  Mayor de edad        MUJER   COSTA RICA  SAN JOSE   \n",
       "1  PEATON [PERSONA]  Mayor de edad  DESCONOCIDO   COSTA RICA  SAN JOSE   \n",
       "2  PEATON [PERSONA]  Mayor de edad       HOMBRE   COSTA RICA   CARTAGO   \n",
       "3  PEATON [PERSONA]  Mayor de edad        MUJER   COSTA RICA  ALAJUELA   \n",
       "4  PEATON [PERSONA]    Desconocido        MUJER   COSTA RICA   CARTAGO   \n",
       "\n",
       "      Canton  Distrito  \n",
       "0  SANTA ANA       NaN  \n",
       "1   SAN JOSE       NaN  \n",
       "2    PARAISO       NaN  \n",
       "3    OROTINA       NaN  \n",
       "4   OREAMUNO       NaN  "
      ]
     },
     "execution_count": 41,
     "metadata": {},
     "output_type": "execute_result"
    }
   ],
   "source": [
    "import os\n",
    "import csv\n",
    "from collections import Counter\n",
    "import math\n",
    "import pandas as pd\n",
    "import numpy as np\n",
    "import matplotlib.pyplot as plt\n",
    "import datetime\n",
    "import re\n",
    "import seaborn as sns\n",
    "from sklearn.linear_model import LinearRegression\n",
    "from sklearn.model_selection import train_test_split\n",
    "from sklearn.metrics import mean_squared_error, r2_score\n",
    "\n",
    "#El csv debe estar en el mismo folder del archivo python\n",
    "current_dir = os.getcwd()\n",
    "filename = \"Estadisticas.csv\"\n",
    "\n",
    "dataset_path = os.path.join(current_dir, filename)\n",
    "df = pd.read_csv(dataset_path)\n",
    "\n",
    "df.head()"
   ]
  },
  {
   "cell_type": "markdown",
   "id": "1f50f71e-91a9-4a44-9eff-dd5624c0e03a",
   "metadata": {},
   "source": [
    "# Analisis Exploratorio de Datos"
   ]
  },
  {
   "cell_type": "code",
   "execution_count": 42,
   "id": "a6bbbc22-9b54-4efb-bb26-6ae78f1fd2e7",
   "metadata": {},
   "outputs": [
    {
     "data": {
      "text/plain": [
       "Index(['Delito', 'SubDelito', 'Fecha', ' Hora', 'Victima', 'SubVictima',\n",
       "       'Edad', 'Sexo', 'Nacionalidad', 'Provincia', 'Canton', 'Distrito'],\n",
       "      dtype='object')"
      ]
     },
     "execution_count": 42,
     "metadata": {},
     "output_type": "execute_result"
    }
   ],
   "source": [
    "df.columns"
   ]
  },
  {
   "cell_type": "code",
   "execution_count": 43,
   "id": "5caa4284-2e78-47ec-b60c-cb5ac94b0991",
   "metadata": {},
   "outputs": [
    {
     "name": "stdout",
     "output_type": "stream",
     "text": [
      "<class 'pandas.core.frame.DataFrame'>\n",
      "RangeIndex: 96878 entries, 0 to 96877\n",
      "Data columns (total 12 columns):\n",
      " #   Column        Non-Null Count  Dtype  \n",
      "---  ------        --------------  -----  \n",
      " 0   Delito        96878 non-null  object \n",
      " 1   SubDelito     96878 non-null  object \n",
      " 2   Fecha         96878 non-null  object \n",
      " 3    Hora         96878 non-null  object \n",
      " 4   Victima       96878 non-null  object \n",
      " 5   SubVictima    96878 non-null  object \n",
      " 6   Edad          96878 non-null  object \n",
      " 7   Sexo          96878 non-null  object \n",
      " 8   Nacionalidad  96878 non-null  object \n",
      " 9   Provincia     96878 non-null  object \n",
      " 10  Canton        96878 non-null  object \n",
      " 11  Distrito      0 non-null      float64\n",
      "dtypes: float64(1), object(11)\n",
      "memory usage: 8.9+ MB\n"
     ]
    }
   ],
   "source": [
    "df.info()"
   ]
  },
  {
   "cell_type": "code",
   "execution_count": 44,
   "id": "db5db9cc-4abe-4b50-b0b4-64f4bfed010b",
   "metadata": {},
   "outputs": [],
   "source": [
    "# Drop de la columna Distrito ya que no aporta datos\n",
    "if 'Distrito' in df.columns:\n",
    "    df.drop('Distrito', axis=1, inplace=True)"
   ]
  },
  {
   "cell_type": "code",
   "execution_count": 45,
   "id": "937a664b-3b51-41b6-9aed-1877f2d7dae3",
   "metadata": {},
   "outputs": [
    {
     "data": {
      "image/png": "[encoded data removed]",
      "text/plain": [
       "<Figure size 640x480 with 1 Axes>"
      ]
     },
     "metadata": {},
     "output_type": "display_data"
    }
   ],
   "source": [
    "delitos = df['Delito'].value_counts()\n",
    "\n",
    "delitos.plot(kind='bar', color='lightcoral', edgecolor='black')\n",
    "plt.title('Tipos de Delito')\n",
    "plt.ylabel('Cantidad')\n",
    "plt.xticks(rotation=45)\n",
    "\n",
    "# Agregar el total sobre cada barra\n",
    "for i, count in enumerate(delitos):\n",
    "    plt.text(i, count + 0.1, str(count), ha='center', va='bottom', fontsize=10, color='black')\n",
    "\n",
    "plt.tight_layout()\n",
    "plt.show()"
   ]
  },
  {
   "cell_type": "code",
   "execution_count": 46,
   "id": "7e6d4b41-45c3-4072-bd7b-6708bd0ca388",
   "metadata": {},
   "outputs": [
    {
     "data": {
      "text/plain": [
       "SubDelito\n",
       "POR DESCUIDO                      16839\n",
       "FORZADURA                         11092\n",
       "ARMA DE FUEGO                      9530\n",
       "TACHA DE VEHICULO                  7824\n",
       "POR CONFIANZA                      6108\n",
       "CARTERISTA                         5947\n",
       "ARMA BLANCA                        5662\n",
       "DESCUIDO                           5413\n",
       "ARREBATO                           3718\n",
       "BOQUETE                            2554\n",
       "GOLPES                             2408\n",
       "ESCALAMIENTO                       2373\n",
       "ASALTO                             2264\n",
       "OTRO O INDETERMINADO               2172\n",
       "COCHERAZO                          1537\n",
       "CORTA CANDADOS                     1281\n",
       "ARDID PREVIO/DISTRACCION           1279\n",
       "INTIMIDACION VERBAL                1274\n",
       "RUPTURA VENTANA                    1271\n",
       "AJUSTE DE CUENTAS/VENGANZA         1257\n",
       "CON LLAVE                           927\n",
       "QUITAN CELOSIAS                     873\n",
       "CANDADO CHINO                       732\n",
       "INMOVILIZACION                      668\n",
       "PROGRESIVOS                         397\n",
       "ARMA CONTUNDENTE                    315\n",
       "RETIRO DE CAJERO AUTOMATICO         254\n",
       "DISCUSION/RI&#209;A                 235\n",
       "USO DE SOMNIFERO                    142\n",
       "POR LA COMISION DE OTRO DELITO      142\n",
       "ARDID PREVIO                        105\n",
       "GANZUA/VARILLA                       90\n",
       "VIOLENCIA DOMESTICA                  43\n",
       "USO DE GAS                           39\n",
       "DESCONOCIDO                          31\n",
       "REPELIENDO ACTIVIDAD CRIMINAL        26\n",
       "NO DETERMINADO                       23\n",
       "FEMICIDIO                            20\n",
       "PROFESIONAL                          13\n",
       "Name: count, dtype: int64"
      ]
     },
     "execution_count": 46,
     "metadata": {},
     "output_type": "execute_result"
    }
   ],
   "source": [
    "df['SubDelito'].value_counts()"
   ]
  },
  {
   "cell_type": "code",
   "execution_count": null,
   "id": "8159d906-18ea-4993-a6eb-0d5a5b4c49a0",
   "metadata": {},
   "outputs": [],
   "source": []
  }
 ],
 "metadata": {
  "kernelspec": {
   "display_name": "Python 3 (ipykernel)",
   "language": "python",
   "name": "python3"
  },
  "language_info": {
   "codemirror_mode": {
    "name": "ipython",
    "version": 3
   },
   "file_extension": ".py",
   "mimetype": "text/x-python",
   "name": "python",
   "nbconvert_exporter": "python",
   "pygments_lexer": "ipython3",
   "version": "3.12.2"
  }
 },
 "nbformat": 4,
 "nbformat_minor": 5
}
